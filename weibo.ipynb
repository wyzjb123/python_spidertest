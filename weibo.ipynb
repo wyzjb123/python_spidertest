{
 "cells": [
  {
   "cell_type": "markdown",
   "metadata": {},
   "source": [
    "# 微博热搜前十爬取，获取热搜名称和相关链接"
   ]
  },
  {
   "cell_type": "code",
   "execution_count": 3,
   "metadata": {},
   "outputs": [],
   "source": [
    "# 将网页cookie转化为request形式的字符串字典，先获取cookie再爬取\n",
    "from http.cookies import SimpleCookie\n",
    "\n",
    "rawdata = 'SUB=_2AkMTkyDSf8NxqwJRmPgUz27gZIhzyA_EieKlz9EJJRMxHRl-yT9vqmMjtRB6OBMOPZjdw3JPo1ve7rw5UstzHz6f8U5L; SUBP=0033WrSXqPxfM72-Ws9jqgMF55529P9D9W5HnVYyImM6BsEIkZPCokJ-; SINAGLOBAL=2533799230638.769.1691332583817; _s_tentry=-; Apache=1332892209147.2917.1706431960582; ULV=1706431960697:2:1:1:1332892209147.2917.1706431960582:1691332583819'\n",
    "cookie = SimpleCookie()\n",
    "cookie.load(rawdata)\n",
    "\n",
    "# Even though SimpleCookie is dictionary-like, it internally uses a Morsel object\n",
    "# which is incompatible with requests. Manually construct a dictionary instead.\n",
    "cookies = {k: v.value for k, v in cookie.items()}"
   ]
  },
  {
   "cell_type": "code",
   "execution_count": 4,
   "metadata": {},
   "outputs": [],
   "source": [
    "import requests\n",
    "from bs4 import BeautifulSoup\n",
    "\n",
    "# 微博热搜URL（可能会变化，需要根据实际情况更新）\n",
    "url = 'https://s.weibo.com/top/summary?cate=socialevent'\n",
    "\n",
    "# 发送请求获取页面内容\n",
    "headers = {\n",
    "    'User-Agent': 'Mozilla/5.0 (Windows NT 10.0; Win64; x64) AppleWebKit/537.36 (KHTML, like Gecko) Chrome/58.0.3029.110 Safari/537.3'\n",
    "}\n",
    "response = requests.get(url, headers=headers,cookies=cookies)\n",
    "\n",
    "response.encoding = 'utf-8'  # 确保中文编码正确\n",
    "\n",
    "# 使用BeautifulSoup解析页面\n",
    "soup = BeautifulSoup(response.text, 'html.parser')"
   ]
  },
  {
   "cell_type": "code",
   "execution_count": null,
   "metadata": {},
   "outputs": [],
   "source": [
    "# 测试soup中的内容是否为我们要的html格式的内容\n",
    "print(soup)"
   ]
  },
  {
   "cell_type": "code",
   "execution_count": null,
   "metadata": {},
   "outputs": [],
   "source": [
    "# 找到热搜榜的标签，这里的选择器需要根据实际页面结构来定\n",
    "hot_search_list = soup.select('table tbody tr')\n",
    "\n",
    "# 存储热搜前十的内容\n",
    "top_ten_hot_search = []\n",
    "\n",
    "# print(hot_search_list)\n",
    "\n",
    "for item in hot_search_list[:10]:  # 只获取前十项\n",
    "    # rank = item.select_one('.td-01').text.strip()  # 排名\n",
    "    keyword = item.select_one('.td-02 a').text.strip(\"#\")  # 热搜关键词\n",
    "    # print(keyword)\n",
    "    # heat = item.select_one('.td-02 a href').text.strip()  # 热度\n",
    "    link = 'https://s.weibo.com' + item.select_one('.td-02 a')['href']  # 链接\n",
    "    # print(link)\n",
    "    \n",
    "    # 将信息添加到列表中\n",
    "    top_ten_hot_search.append({\n",
    "        'keyword': keyword,\n",
    "        'link': link\n",
    "    })\n",
    "\n",
    "# 打印结果\n",
    "for hot_search in top_ten_hot_search:\n",
    "    print(hot_search)"
   ]
  }
 ],
 "metadata": {
  "kernelspec": {
   "display_name": "Python 3",
   "language": "python",
   "name": "python3"
  },
  "language_info": {
   "codemirror_mode": {
    "name": "ipython",
    "version": 3
   },
   "file_extension": ".py",
   "mimetype": "text/x-python",
   "name": "python",
   "nbconvert_exporter": "python",
   "pygments_lexer": "ipython3",
   "version": "3.11.5"
  },
  "orig_nbformat": 4
 },
 "nbformat": 4,
 "nbformat_minor": 2
}
